{
 "cells": [
  {
   "cell_type": "code",
   "execution_count": 1,
   "id": "e78290c1-991c-4516-a844-7d86895d15e9",
   "metadata": {},
   "outputs": [
    {
     "name": "stdout",
     "output_type": "stream",
     "text": [
      "Defaulting to user installation because normal site-packages is not writeable\n",
      "Requirement already satisfied: requests in c:\\users\\dell2\\appdata\\roaming\\python\\python311\\site-packages (2.32.3)\n",
      "Requirement already satisfied: charset-normalizer<4,>=2 in c:\\users\\dell2\\appdata\\roaming\\python\\python311\\site-packages (from requests) (3.4.1)\n",
      "Requirement already satisfied: idna<4,>=2.5 in c:\\users\\dell2\\appdata\\roaming\\python\\python311\\site-packages (from requests) (3.10)\n",
      "Requirement already satisfied: urllib3<3,>=1.21.1 in c:\\users\\dell2\\appdata\\roaming\\python\\python311\\site-packages (from requests) (2.3.0)\n",
      "Requirement already satisfied: certifi>=2017.4.17 in c:\\users\\dell2\\appdata\\roaming\\python\\python311\\site-packages (from requests) (2025.1.31)\n"
     ]
    }
   ],
   "source": [
    "!pip install requests "
   ]
  },
  {
   "cell_type": "code",
   "execution_count": 3,
   "id": "2fd766a5-b983-47f2-b4f0-7af63fa40fa6",
   "metadata": {},
   "outputs": [],
   "source": [
    "import requests\n",
    "\n",
    "API_KEY = \"9be69bd07d67c827b1a499175d021137\" # 👈 Replace this with your key\n",
    "\n",
    "def get_weather(city):\n",
    "    base_url = \"http://api.openweathermap.org/data/2.5/weather\"\n",
    "    params = {\n",
    "        \"q\": city,\n",
    "        \"appid\": API_KEY,\n",
    "        \"units\": \"metric\"  # This gives temperature in Celsius\n",
    "    }\n",
    "    response = requests.get(base_url, params=params)\n",
    "    data = response.json()\n",
    "    \n",
    "    if response.status_code != 200:\n",
    "        return None\n",
    "    \n",
    "    weather = {\n",
    "        \"temp\": data[\"main\"][\"temp\"],\n",
    "        \"condition\": data[\"weather\"][0][\"main\"]\n",
    "    }\n",
    "    return weather\n"
   ]
  },
  {
   "cell_type": "code",
   "execution_count": 5,
   "id": "eb616596-1874-481d-a1d4-3604130725df",
   "metadata": {},
   "outputs": [
    {
     "name": "stdin",
     "output_type": "stream",
     "text": [
      "Enter your city:  Mumbai\n"
     ]
    },
    {
     "name": "stdout",
     "output_type": "stream",
     "text": [
      "{'temp': 30.36, 'condition': 'Clear'}\n"
     ]
    }
   ],
   "source": [
    "city = input(\"Enter your city: \")\n",
    "weather = get_weather(city)\n",
    "print(weather)\n"
   ]
  },
  {
   "cell_type": "code",
   "execution_count": 6,
   "id": "46c5550d-1d72-414b-abf9-bc473b7047be",
   "metadata": {},
   "outputs": [
    {
     "name": "stdin",
     "output_type": "stream",
     "text": [
      "Enter your city:  Ludhiana\n"
     ]
    },
    {
     "name": "stdout",
     "output_type": "stream",
     "text": [
      "Status Code: 200\n",
      "Full JSON Response:\n",
      "{'coord': {'lon': 75.85, 'lat': 30.9}, 'weather': [{'id': 800, 'main': 'Clear', 'description': 'clear sky', 'icon': '01d'}], 'base': 'stations', 'main': {'temp': 39.2, 'feels_like': 37.07, 'temp_min': 39.2, 'temp_max': 39.2, 'pressure': 1005, 'humidity': 15, 'sea_level': 1005, 'grnd_level': 977}, 'visibility': 10000, 'wind': {'speed': 2.93, 'deg': 157, 'gust': 2.87}, 'clouds': {'all': 5}, 'dt': 1744711796, 'sys': {'country': 'IN', 'sunrise': 1744676932, 'sunset': 1744723441}, 'timezone': 19800, 'id': 1264728, 'name': 'Ludhiana', 'cod': 200}\n"
     ]
    }
   ],
   "source": [
    "city = input(\"Enter your city: \")\n",
    "response = requests.get(\n",
    "    \"http://api.openweathermap.org/data/2.5/weather\",\n",
    "    params={\"q\": city, \"appid\": API_KEY, \"units\": \"metric\"}\n",
    ")\n",
    "\n",
    "print(\"Status Code:\", response.status_code)\n",
    "print(\"Full JSON Response:\")\n",
    "print(response.json())\n"
   ]
  },
  {
   "cell_type": "code",
   "execution_count": 7,
   "id": "bf535b39-a1e1-4178-9b9d-02769d749ad8",
   "metadata": {},
   "outputs": [],
   "source": [
    "def get_weather(city):\n",
    "    base_url = \"http://api.openweathermap.org/data/2.5/weather\"\n",
    "    params = {\n",
    "        \"q\": city,\n",
    "        \"appid\": API_KEY,\n",
    "        \"units\": \"metric\"\n",
    "    }\n",
    "    response = requests.get(base_url, params=params)\n",
    "    data = response.json()\n",
    "    \n",
    "    if response.status_code != 200:\n",
    "        return None\n",
    "    \n",
    "    # ✅ Extract temperature and weather condition\n",
    "    weather = {\n",
    "        \"temp\": data[\"main\"][\"temp\"],\n",
    "        \"condition\": data[\"weather\"][0][\"main\"]\n",
    "    }\n",
    "    return weather\n"
   ]
  },
  {
   "cell_type": "code",
   "execution_count": 8,
   "id": "ca97ad21-8e12-4814-a30f-3aa4c4c43fe2",
   "metadata": {},
   "outputs": [],
   "source": [
    "#Final Weather Function\n",
    "import requests\n",
    "\n",
    "API_KEY = '9be69bd07d67c827b1a499175d021137'  # Replace this with your actual API key\n",
    "\n",
    "def get_weather(city):\n",
    "    base_url = \"http://api.openweathermap.org/data/2.5/weather\"\n",
    "    params = {\n",
    "        \"q\": city,\n",
    "        \"appid\": API_KEY,\n",
    "        \"units\": \"metric\"\n",
    "    }\n",
    "    response = requests.get(base_url, params=params)\n",
    "    \n",
    "    if response.status_code != 200:\n",
    "        print(\"Error:\", response.json())\n",
    "        return None\n",
    "    \n",
    "    data = response.json()\n",
    "    weather = {\n",
    "        \"temp\": data[\"main\"][\"temp\"],\n",
    "        \"condition\": data[\"weather\"][0][\"main\"]\n",
    "    }\n",
    "    return weather\n"
   ]
  },
  {
   "cell_type": "code",
   "execution_count": 9,
   "id": "d158051c-7011-4381-a4eb-27a0527d2300",
   "metadata": {},
   "outputs": [
    {
     "name": "stdin",
     "output_type": "stream",
     "text": [
      "Enter your city:  Ludhiana\n"
     ]
    },
    {
     "name": "stdout",
     "output_type": "stream",
     "text": [
      "\n",
      "🌡️ Temperature: 39.2°C\n",
      "🌤️ Condition: Clear\n"
     ]
    }
   ],
   "source": [
    "city = input(\"Enter your city: \")\n",
    "weather = get_weather(city)\n",
    "\n",
    "if weather:\n",
    "    print(f\"\\n🌡️ Temperature: {weather['temp']}°C\")\n",
    "    print(f\"🌤️ Condition: {weather['condition']}\")\n",
    "else:\n",
    "    print(\"❌ Could not fetch weather data.\")\n"
   ]
  },
  {
   "cell_type": "code",
   "execution_count": 11,
   "id": "89ac19b0-5baf-4ddf-a90e-b41d44a80019",
   "metadata": {},
   "outputs": [],
   "source": [
    "#outfit code\n",
    "def recommend_outfit(temp, condition, gender):\n",
    "    outfit = \"\"\n",
    "\n",
    "    # Base outfit by temperature and gender\n",
    "    if gender == \"male\":\n",
    "        if temp < 10:\n",
    "            outfit = \"Wear a heavy jacket, thermal shirt, jeans, and boots.\"\n",
    "        elif 10 <= temp < 20:\n",
    "            outfit = \"Wear a sweatshirt or hoodie with jeans.\"\n",
    "        elif 20 <= temp < 30:\n",
    "            outfit = \"Wear a casual t-shirt and jeans or chinos.\"\n",
    "        else:\n",
    "            outfit = \"Wear shorts and a sleeveless tee or light shirt.\"\n",
    "\n",
    "    elif gender == \"female\":\n",
    "        if temp < 10:\n",
    "            outfit = \"Wear a warm coat, sweater, leggings or jeans, and boots.\"\n",
    "        elif 10 <= temp < 20:\n",
    "            outfit = \"Wear a cardigan or jacket with jeans or trousers.\"\n",
    "        elif 20 <= temp < 30:\n",
    "            outfit = \"Wear a t-shirt with jeans, or a casual dress.\"\n",
    "        else:\n",
    "            outfit = \"Wear a light sundress, or tank top with shorts or a skirt.\"\n",
    "\n",
    "    # Extra suggestions based on condition\n",
    "    condition = condition.lower()\n",
    "\n",
    "    if \"rain\" in condition:\n",
    "        outfit += \" ☔ Carry an umbrella or wear a raincoat.\"\n",
    "    elif \"snow\" in condition:\n",
    "        outfit += \" ❄️ Add snow boots and a thermal layer.\"\n",
    "    elif \"clear\" in condition or \"sun\" in condition:\n",
    "        outfit += \" 🕶️ Wear sunglasses and consider a hat or sunscreen.\"\n",
    "    elif \"cloud\" in condition:\n",
    "        outfit += \" ☁️ It's a bit cloudy, so a light jacket might help.\"\n",
    "    elif \"wind\" in condition or \"breeze\" in condition:\n",
    "        outfit += \" 💨 It's breezy! Wear a windbreaker or a light hoodie.\"\n",
    "\n",
    "    return outfit\n"
   ]
  },
  {
   "cell_type": "code",
   "execution_count": 12,
   "id": "3994425f-3432-4b03-92bb-0664bb9404a1",
   "metadata": {},
   "outputs": [
    {
     "name": "stdin",
     "output_type": "stream",
     "text": [
      "Enter your city:  Ludhiana\n",
      "Enter your gender (male/female):  female\n"
     ]
    }
   ],
   "source": [
    "city = input(\"Enter your city: \")\n",
    "gender = input(\"Enter your gender (male/female): \").lower()\n"
   ]
  },
  {
   "cell_type": "code",
   "execution_count": 13,
   "id": "f14a3f21-9a0f-40d2-bcd8-9802810c13f4",
   "metadata": {},
   "outputs": [
    {
     "name": "stdout",
     "output_type": "stream",
     "text": [
      "👋 Hello! I’m your Weather Outfit Assistant.\n"
     ]
    },
    {
     "name": "stdin",
     "output_type": "stream",
     "text": [
      "🏙️ Which city are you in?  Mumbai\n",
      "🧍 What's your gender? (male/female):  female\n"
     ]
    },
    {
     "name": "stdout",
     "output_type": "stream",
     "text": [
      "\n",
      "📍 Location: Mumbai\n",
      "🌡️ Temperature: 30.36°C\n",
      "🌤️ Weather Condition: Clear\n",
      "\n",
      "👕 Outfit Suggestion: Wear a light sundress, or tank top with shorts or a skirt. 🕶️ Wear sunglasses and consider a hat or sunscreen.\n"
     ]
    }
   ],
   "source": [
    "def chatbot():\n",
    "    print(\"👋 Hello! I’m your Weather Outfit Assistant.\")\n",
    "    \n",
    "    city = input(\"🏙️ Which city are you in? \")\n",
    "    gender = input(\"🧍 What's your gender? (male/female): \").lower()\n",
    "\n",
    "    weather = get_weather(city)\n",
    "\n",
    "    if weather:\n",
    "        temp = weather['temp']\n",
    "        condition = weather['condition']\n",
    "        \n",
    "        print(f\"\\n📍 Location: {city.title()}\")\n",
    "        print(f\"🌡️ Temperature: {temp}°C\")\n",
    "        print(f\"🌤️ Weather Condition: {condition}\")\n",
    "\n",
    "        outfit = recommend_outfit(temp, condition, gender)\n",
    "        print(f\"\\n👕 Outfit Suggestion: {outfit}\")\n",
    "    else:\n",
    "        print(\"❌ Sorry, I couldn't fetch the weather data. Please try again later.\")\n",
    "\n",
    "# ▶️ Run the chatbot\n",
    "chatbot()\n"
   ]
  },
  {
   "cell_type": "code",
   "execution_count": 24,
   "id": "f8d9469b-37eb-4fe4-9ad2-a73bb27b8715",
   "metadata": {},
   "outputs": [
    {
     "name": "stdout",
     "output_type": "stream",
     "text": [
      "🤖: Hello! May I know your name?\n"
     ]
    },
    {
     "name": "stdin",
     "output_type": "stream",
     "text": [
      "👤:  Harleen\n"
     ]
    },
    {
     "name": "stdout",
     "output_type": "stream",
     "text": [
      "🤖: Nice to meet you, Harleen! 👋\n",
      ": Hi there! I'm your smart outfit assistant. 🤖\n"
     ]
    },
    {
     "name": "stdin",
     "output_type": "stream",
     "text": [
      "👤:  okayy\n"
     ]
    },
    {
     "name": "stdout",
     "output_type": "stream",
     "text": [
      "🤖: Which city are you in?\n"
     ]
    },
    {
     "name": "stdin",
     "output_type": "stream",
     "text": [
      "👤:  Srinagar\n"
     ]
    },
    {
     "name": "stdout",
     "output_type": "stream",
     "text": [
      "🤖: What's your gender? (male/female)\n"
     ]
    },
    {
     "name": "stdin",
     "output_type": "stream",
     "text": [
      "👤:  female\n"
     ]
    },
    {
     "name": "stdout",
     "output_type": "stream",
     "text": [
      "🤖: Do you prefer a casual, formal, or sporty outfit?\n"
     ]
    },
    {
     "name": "stdin",
     "output_type": "stream",
     "text": [
      "👤:  formal \n"
     ]
    },
    {
     "name": "stdout",
     "output_type": "stream",
     "text": [
      "🤖: Alright Harleen, let’s get your weather update!\n",
      "🤖: It's currently 26.11°C with clear in Srinagar.\n",
      ": Here's what I'd recommend: Wear a formal dress or top with slacks and heels or flats. 🕶️ Wear sunglasses and consider a hat or sunscreen.\n"
     ]
    }
   ],
   "source": [
    "import time\n",
    "import requests\n",
    "import re\n",
    "\n",
    "API_KEY = \"9be69bd07d67c827b1a499175d021137\"  # Replace with your actual OpenWeatherMap API key\n",
    "\n",
    "# Simulate typing for more natural chatbot feel\n",
    "def type_print(text, delay=1):\n",
    "    for char in text:\n",
    "        print(char, end='', flush=True)\n",
    "        time.sleep(delay / 100)\n",
    "    print()\n",
    "\n",
    "# Get weather details from API\n",
    "def get_weather(city):\n",
    "    base_url = \"http://api.openweathermap.org/data/2.5/weather\"\n",
    "    params = {\n",
    "        \"q\": city,\n",
    "        \"appid\": API_KEY,\n",
    "        \"units\": \"metric\"\n",
    "    }\n",
    "    response = requests.get(base_url, params=params)\n",
    "    data = response.json()\n",
    "\n",
    "    if response.status_code != 200 or \"main\" not in data:\n",
    "        return None\n",
    "\n",
    "    return {\n",
    "        \"temp\": data[\"main\"][\"temp\"],\n",
    "        \"condition\": data[\"weather\"][0][\"main\"]\n",
    "    }\n",
    "\n",
    "# Outfit recommendation logic\n",
    "def recommend_outfit(temp, condition, gender, style_pref):\n",
    "    outfit = \"\"\n",
    "\n",
    "    if gender == \"male\":\n",
    "        if style_pref == \"formal\":\n",
    "            if temp < 15:\n",
    "                outfit = \"Wear a formal coat, shirt with trousers, and leather shoes.\"\n",
    "            else:\n",
    "                outfit = \"Wear a light formal shirt, trousers, and formal shoes.\"\n",
    "        elif style_pref == \"sporty\":\n",
    "            if temp < 15:\n",
    "                outfit = \"Wear a sports jacket, track pants, and running shoes.\"\n",
    "            else:\n",
    "                outfit = \"Wear a dry-fit t-shirt, shorts, and sneakers.\"\n",
    "        else:  # casual\n",
    "            if temp < 10:\n",
    "                outfit = \"Wear a heavy jacket, thermal shirt, jeans, and boots.\"\n",
    "            elif 10 <= temp < 20:\n",
    "                outfit = \"Wear a hoodie with jeans.\"\n",
    "            elif 20 <= temp < 30:\n",
    "                outfit = \"Wear a t-shirt and jeans or chinos.\"\n",
    "            else:\n",
    "                outfit = \"Wear shorts and a sleeveless tee.\"\n",
    "\n",
    "    elif gender == \"female\":\n",
    "        if style_pref == \"formal\":\n",
    "            if temp < 15:\n",
    "                outfit = \"Wear a blazer over a blouse with formal trousers or skirt, and closed shoes.\"\n",
    "            else:\n",
    "                outfit = \"Wear a formal dress or top with slacks and heels or flats.\"\n",
    "        elif style_pref == \"sporty\":\n",
    "            if temp < 15:\n",
    "                outfit = \"Wear a sweatshirt, leggings or joggers, and trainers.\"\n",
    "            else:\n",
    "                outfit = \"Wear a sports tank, shorts or yoga pants, and running shoes.\"\n",
    "        else:  # casual\n",
    "            if temp < 10:\n",
    "                outfit = \"Wear a warm coat, sweater, leggings or jeans, and boots.\"\n",
    "            elif 10 <= temp < 20:\n",
    "                outfit = \"Wear a cardigan or jacket with jeans or trousers.\"\n",
    "            elif 20 <= temp < 30:\n",
    "                outfit = \"Wear a t-shirt with jeans, or a casual dress.\"\n",
    "            else:\n",
    "                outfit = \"Wear a light sundress, or tank top with shorts or a skirt.\"\n",
    "\n",
    "    condition = condition.lower()\n",
    "    if \"rain\" in condition:\n",
    "        outfit += \" ☔ Carry an umbrella or wear a raincoat.\"\n",
    "    elif \"snow\" in condition:\n",
    "        outfit += \" ❄️ Add snow boots and a thermal layer.\"\n",
    "    elif \"clear\" in condition or \"sun\" in condition:\n",
    "        outfit += \" 🕶️ Wear sunglasses and consider a hat or sunscreen.\"\n",
    "    elif \"cloud\" in condition:\n",
    "        outfit += \" ☁️ It's a bit cloudy, so a light jacket might help.\"\n",
    "    elif \"wind\" in condition or \"breeze\" in condition:\n",
    "        outfit += \" 💨 It's breezy! Wear a windbreaker or a light hoodie.\"\n",
    "\n",
    "    return outfit\n",
    "\n",
    "# Extract city and gender from free-form input\n",
    "def extract_info_from_input(user_input):\n",
    "    user_input = user_input.lower()\n",
    "    city_match = re.search(r\"in\\s+([a-zA-Z\\s]+)\", user_input)\n",
    "    gender = None\n",
    "    city = None\n",
    "\n",
    "    if \"female\" in user_input or \"girl\" in user_input or \"woman\" in user_input:\n",
    "        gender = \"female\"\n",
    "    elif \"male\" in user_input or \"boy\" in user_input or \"man\" in user_input:\n",
    "        gender = \"male\"\n",
    "\n",
    "    if city_match:\n",
    "        city = city_match.group(1).strip().title()\n",
    "\n",
    "    return city, gender\n",
    "\n",
    "# Chatbot main flow\n",
    "def weather_chatbot():\n",
    "    type_print(\"🤖: Hi there! I'm your smart outfit assistant. 🤖\")\n",
    "    user_input = input(\"👤: \")\n",
    "\n",
    "    city, gender = extract_info_from_input(user_input)\n",
    "\n",
    "    # Ask for missing info\n",
    "    while not city:\n",
    "        type_print(\"🤖: Which city are you in?\")\n",
    "        city = input(\"👤: \").strip().title()\n",
    "\n",
    "    while not gender:\n",
    "        type_print(\"🤖: What's your gender? (male/female)\")\n",
    "        gender = input(\"👤: \").strip().lower()\n",
    "\n",
    "    type_print(\"🤖: Do you prefer a casual, formal, or sporty outfit?\")\n",
    "    style_pref = input(\"👤: \").strip().lower()\n",
    "\n",
    "    # Get weather\n",
    "    while True:\n",
    "        type_print(f\"🤖: Alright {user_name}, let’s get your weather update!\")\n",
    "        weather = get_weather(city)\n",
    "\n",
    "        if weather:\n",
    "            temp = weather[\"temp\"]\n",
    "            condition = weather[\"condition\"]\n",
    "            type_print(f\"🤖: It's currently {temp}°C with {condition.lower()} in {city}.\")\n",
    "            outfit = recommend_outfit(temp, condition, gender, style_pref)\n",
    "            type_print(f\"🤖: Here's what I'd recommend: {outfit}\")\n",
    "            break\n",
    "        else:\n",
    "            type_print(\"🤖: I couldn't get weather info for that city. Please enter a valid city.\")\n",
    "            city = input(\"👤: \").strip().title()\n",
    "\n",
    "# Greet user and get their name\n",
    "type_print(\"🤖: Hello! May I know your name?\")\n",
    "user_name = input(\"👤: \").strip().title()\n",
    "type_print(f\"🤖: Nice to meet you, {user_name}! 👋\")\n",
    "\n",
    "# Run the chatbot\n",
    "weather_chatbot()\n"
   ]
  },
  {
   "cell_type": "code",
   "execution_count": null,
   "id": "6aeda518-a538-4df1-883a-639412d84074",
   "metadata": {},
   "outputs": [],
   "source": []
  }
 ],
 "metadata": {
  "kernelspec": {
   "display_name": "Python 3 (ipykernel)",
   "language": "python",
   "name": "python3"
  },
  "language_info": {
   "codemirror_mode": {
    "name": "ipython",
    "version": 3
   },
   "file_extension": ".py",
   "mimetype": "text/x-python",
   "name": "python",
   "nbconvert_exporter": "python",
   "pygments_lexer": "ipython3",
   "version": "3.11.5"
  }
 },
 "nbformat": 4,
 "nbformat_minor": 5
}
